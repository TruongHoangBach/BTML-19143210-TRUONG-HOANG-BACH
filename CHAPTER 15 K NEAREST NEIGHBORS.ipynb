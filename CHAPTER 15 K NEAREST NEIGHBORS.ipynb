{
 "cells": [
  {
   "cell_type": "code",
   "execution_count": 1,
   "id": "1c5b800e",
   "metadata": {},
   "outputs": [],
   "source": [
    "#15.1\n",
    "from sklearn import datasets\n",
    "from sklearn.neighbors import NearestNeighbors\n",
    "from sklearn.preprocessing import StandardScaler\n",
    "iris = datasets.load_iris()\n",
    "features = iris.data"
   ]
  },
  {
   "cell_type": "code",
   "execution_count": 2,
   "id": "eef3548a",
   "metadata": {},
   "outputs": [
    {
     "data": {
      "text/plain": [
       "array([[[1.03800476, 0.55861082, 1.10378283, 1.18556721],\n",
       "        [0.79566902, 0.32841405, 0.76275827, 1.05393502]]])"
      ]
     },
     "execution_count": 2,
     "metadata": {},
     "output_type": "execute_result"
    }
   ],
   "source": [
    "standardizer = StandardScaler()\n",
    "features_standardized = standardizer.fit_transform(features)\n",
    "nearest_neighbors = NearestNeighbors(n_neighbors=2).fit(features_standardized)\n",
    "new_observation = [ 1, 1, 1, 1]\n",
    "distances, indices = nearest_neighbors.kneighbors([new_observation])\n",
    "features_standardized[indices]"
   ]
  },
  {
   "cell_type": "code",
   "execution_count": 3,
   "id": "710161b7",
   "metadata": {},
   "outputs": [],
   "source": [
    "nearestneighbors_euclidean = NearestNeighbors(\n",
    "n_neighbors=2, metric='euclidean').fit(features_standardized)"
   ]
  },
  {
   "cell_type": "code",
   "execution_count": 4,
   "id": "f9bfcd16",
   "metadata": {},
   "outputs": [
    {
     "data": {
      "text/plain": [
       "array([[0.49140089, 0.74294782]])"
      ]
     },
     "execution_count": 4,
     "metadata": {},
     "output_type": "execute_result"
    }
   ],
   "source": [
    "distances"
   ]
  },
  {
   "cell_type": "code",
   "execution_count": 5,
   "id": "0cd240de",
   "metadata": {},
   "outputs": [],
   "source": [
    "nearestneighbors_euclidean = NearestNeighbors(\n",
    "n_neighbors=3, metric=\"euclidean\").fit(features_standardized)"
   ]
  },
  {
   "cell_type": "code",
   "execution_count": 6,
   "id": "c51cbdc4",
   "metadata": {},
   "outputs": [],
   "source": [
    "nearest_neighbors_with_self = nearestneighbors_euclidean.kneighbors_graph(\n",
    " features_standardized).toarray()"
   ]
  },
  {
   "cell_type": "code",
   "execution_count": 7,
   "id": "3e31bb3c",
   "metadata": {},
   "outputs": [],
   "source": [
    "for i, x in enumerate(nearest_neighbors_with_self):\n",
    " x[i] = 0"
   ]
  },
  {
   "cell_type": "code",
   "execution_count": 8,
   "id": "f9b5b27c",
   "metadata": {},
   "outputs": [
    {
     "data": {
      "text/plain": [
       "array([0., 0., 0., 0., 0., 0., 0., 0., 0., 0., 0., 0., 0., 0., 0., 0., 0.,\n",
       "       1., 0., 0., 0., 0., 0., 0., 0., 0., 0., 1., 0., 0., 0., 0., 0., 0.,\n",
       "       0., 0., 0., 0., 0., 0., 0., 0., 0., 0., 0., 0., 0., 0., 0., 0., 0.,\n",
       "       0., 0., 0., 0., 0., 0., 0., 0., 0., 0., 0., 0., 0., 0., 0., 0., 0.,\n",
       "       0., 0., 0., 0., 0., 0., 0., 0., 0., 0., 0., 0., 0., 0., 0., 0., 0.,\n",
       "       0., 0., 0., 0., 0., 0., 0., 0., 0., 0., 0., 0., 0., 0., 0., 0., 0.,\n",
       "       0., 0., 0., 0., 0., 0., 0., 0., 0., 0., 0., 0., 0., 0., 0., 0., 0.,\n",
       "       0., 0., 0., 0., 0., 0., 0., 0., 0., 0., 0., 0., 0., 0., 0., 0., 0.,\n",
       "       0., 0., 0., 0., 0., 0., 0., 0., 0., 0., 0., 0., 0., 0.])"
      ]
     },
     "execution_count": 8,
     "metadata": {},
     "output_type": "execute_result"
    }
   ],
   "source": [
    "nearest_neighbors_with_self[0]"
   ]
  },
  {
   "cell_type": "code",
   "execution_count": 10,
   "id": "afb06342",
   "metadata": {},
   "outputs": [
    {
     "data": {
      "text/plain": [
       "array([1, 2])"
      ]
     },
     "execution_count": 10,
     "metadata": {},
     "output_type": "execute_result"
    }
   ],
   "source": [
    "#15.2\n",
    "from sklearn.neighbors import KNeighborsClassifier\n",
    "from sklearn.preprocessing import StandardScaler\n",
    "from sklearn import datasets\n",
    "iris = datasets.load_iris()\n",
    "X = iris.data\n",
    "y = iris.target\n",
    "standardizer = StandardScaler()\n",
    "X_std = standardizer.fit_transform(X)\n",
    "knn = KNeighborsClassifier(n_neighbors=5, n_jobs=-1).fit(X_std, y)\n",
    "new_observations = [[ 0.75, 0.75, 0.75, 0.75],\n",
    " [ 1, 1, 1, 1]]\n",
    "knn.predict(new_observations)"
   ]
  },
  {
   "cell_type": "code",
   "execution_count": 11,
   "id": "a1c3ec65",
   "metadata": {},
   "outputs": [
    {
     "data": {
      "text/plain": [
       "array([[0. , 0.6, 0.4],\n",
       "       [0. , 0. , 1. ]])"
      ]
     },
     "execution_count": 11,
     "metadata": {},
     "output_type": "execute_result"
    }
   ],
   "source": [
    "knn.predict_proba(new_observations)"
   ]
  },
  {
   "cell_type": "code",
   "execution_count": 13,
   "id": "4fea5c2f",
   "metadata": {},
   "outputs": [
    {
     "data": {
      "text/plain": [
       "array([1, 2])"
      ]
     },
     "execution_count": 13,
     "metadata": {},
     "output_type": "execute_result"
    }
   ],
   "source": [
    "knn.predict(new_observations)"
   ]
  },
  {
   "cell_type": "markdown",
   "id": "63f6d5f1",
   "metadata": {},
   "source": []
  },
  {
   "cell_type": "code",
   "execution_count": 1,
   "id": "3043d48e",
   "metadata": {},
   "outputs": [],
   "source": [
    "#15.3\n",
    "from sklearn.neighbors import KNeighborsClassifier\n",
    "from sklearn import datasets\n",
    "from sklearn.preprocessing import StandardScaler\n",
    "from sklearn.pipeline import Pipeline, FeatureUnion\n",
    "from sklearn.model_selection import GridSearchCV"
   ]
  },
  {
   "cell_type": "code",
   "execution_count": 2,
   "id": "9082e12c",
   "metadata": {},
   "outputs": [],
   "source": [
    "iris = datasets.load_iris()\n",
    "features = iris.data\n",
    "target = iris.target\n",
    "standardizer = StandardScaler()\n",
    "features_standardized = standardizer.fit_transform(features)"
   ]
  },
  {
   "cell_type": "code",
   "execution_count": 4,
   "id": "3df06be9",
   "metadata": {},
   "outputs": [],
   "source": [
    "knn = KNeighborsClassifier(n_neighbors=5, n_jobs=-1)\n",
    "pipe = Pipeline([(\"standardizer\", standardizer), (\"knn\", knn)])\n",
    "search_space = [{\"knn__n_neighbors\": [1, 2, 3, 4, 5, 6, 7, 8, 9, 10]}]\n",
    "classifier = GridSearchCV(\n",
    " pipe, search_space, cv=5, verbose=0).fit(features_standardized, target)"
   ]
  },
  {
   "cell_type": "code",
   "execution_count": 5,
   "id": "6c6639c3",
   "metadata": {},
   "outputs": [
    {
     "data": {
      "text/plain": [
       "6"
      ]
     },
     "execution_count": 5,
     "metadata": {},
     "output_type": "execute_result"
    }
   ],
   "source": [
    "classifier.best_estimator_.get_params()[\"knn__n_neighbors\"]"
   ]
  },
  {
   "cell_type": "code",
   "execution_count": 6,
   "id": "6b63a110",
   "metadata": {},
   "outputs": [],
   "source": [
    "#15.4\n",
    "from sklearn.neighbors import RadiusNeighborsClassifier\n",
    "from sklearn.preprocessing import StandardScaler\n",
    "from sklearn import datasets"
   ]
  },
  {
   "cell_type": "code",
   "execution_count": 7,
   "id": "c054d5fd",
   "metadata": {},
   "outputs": [],
   "source": [
    "iris = datasets.load_iris()\n",
    "features = iris.data\n",
    "target = iris.target"
   ]
  },
  {
   "cell_type": "code",
   "execution_count": 8,
   "id": "092e2b75",
   "metadata": {},
   "outputs": [],
   "source": [
    "standardizer = StandardScaler()"
   ]
  },
  {
   "cell_type": "code",
   "execution_count": 9,
   "id": "c0176ec3",
   "metadata": {},
   "outputs": [],
   "source": [
    "features_standardized = standardizer.fit_transform(features)"
   ]
  },
  {
   "cell_type": "code",
   "execution_count": 10,
   "id": "74e6f464",
   "metadata": {},
   "outputs": [],
   "source": [
    "rnn = RadiusNeighborsClassifier(\n",
    " radius=.5, n_jobs=-1).fit(features_standardized, target)"
   ]
  },
  {
   "cell_type": "code",
   "execution_count": 11,
   "id": "8d2e7904",
   "metadata": {},
   "outputs": [],
   "source": [
    "new_observations = [[ 1, 1, 1, 1]]"
   ]
  },
  {
   "cell_type": "code",
   "execution_count": 12,
   "id": "4496ac50",
   "metadata": {},
   "outputs": [
    {
     "data": {
      "text/plain": [
       "array([2])"
      ]
     },
     "execution_count": 12,
     "metadata": {},
     "output_type": "execute_result"
    }
   ],
   "source": [
    "rnn.predict(new_observations)"
   ]
  },
  {
   "cell_type": "code",
   "execution_count": null,
   "id": "e0503289",
   "metadata": {},
   "outputs": [],
   "source": []
  }
 ],
 "metadata": {
  "kernelspec": {
   "display_name": "Python 3 (ipykernel)",
   "language": "python",
   "name": "python3"
  },
  "language_info": {
   "codemirror_mode": {
    "name": "ipython",
    "version": 3
   },
   "file_extension": ".py",
   "mimetype": "text/x-python",
   "name": "python",
   "nbconvert_exporter": "python",
   "pygments_lexer": "ipython3",
   "version": "3.9.7"
  }
 },
 "nbformat": 4,
 "nbformat_minor": 5
}
